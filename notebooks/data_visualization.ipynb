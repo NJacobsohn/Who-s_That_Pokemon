{
 "cells": [
  {
   "cell_type": "code",
   "execution_count": 1,
   "metadata": {},
   "outputs": [
    {
     "name": "stderr",
     "output_type": "stream",
     "text": [
      "Using TensorFlow backend.\n"
     ]
    }
   ],
   "source": [
    "import matplotlib.pyplot as plt\n",
    "import pandas as pd\n",
    "import numpy as np\n",
    "%matplotlib inline\n",
    "import seaborn as sns\n",
    "import pickle\n",
    "import itertools\n",
    "import matplotlib as mpl\n",
    "from keras.preprocessing.image import load_img, img_to_array\n",
    "\n",
    "\n",
    "sns.set()\n",
    "\n",
    "mpl.rcParams.update({\n",
    "    'font.size'           : 18.0,\n",
    "    'axes.titlesize'      : 'large',\n",
    "    'axes.labelsize'      : 'medium',\n",
    "    'xtick.labelsize'     : 'medium',\n",
    "    'ytick.labelsize'     : 'medium',\n",
    "    'legend.fontsize'     : 'medium',\n",
    "})"
   ]
  },
  {
   "cell_type": "code",
   "execution_count": 3,
   "metadata": {},
   "outputs": [],
   "source": [
    "with open('../models/metrics/model_2700_cm.txt', 'rb') as f:\n",
    "    cm_my_model = pickle.load(f)\n",
    "with open('../pickles/class_names.p', 'rb') as f:\n",
    "    class_names = pickle.load(f)"
   ]
  },
  {
   "cell_type": "code",
   "execution_count": 31,
   "metadata": {},
   "outputs": [],
   "source": [
    "def plot_confusion_matrix(cm, classes,\n",
    "                          title='Confusion matrix',\n",
    "                          cmap=plt.cm.jet):\n",
    "    \"\"\"\n",
    "    This function prints and plots the confusion matrix.\n",
    "    \"\"\"\n",
    "    \n",
    "    fig, ax = plt.subplots(1,1,figsize = (10,10))\n",
    "    cm = cm.astype('float') / cm.sum(axis=1)[:, np.newaxis]\n",
    "    plt.imshow(cm, interpolation='nearest', cmap=cmap)\n",
    "    print(len(classes))\n",
    "    ax.set_title(title)\n",
    "    plt.colorbar(ax=ax)\n",
    "\n",
    "    plt.tight_layout()\n",
    "    ax.set_ylabel('True label')\n",
    "    ax.set_xlabel('Predicted label')"
   ]
  },
  {
   "cell_type": "code",
   "execution_count": 35,
   "metadata": {},
   "outputs": [
    {
     "name": "stdout",
     "output_type": "stream",
     "text": [
      "149\n"
     ]
    },
    {
     "data": {
      "image/png": "[encoded data removed]",
      "text/plain": [
       "<Figure size 720x720 with 2 Axes>"
      ]
     },
     "metadata": {
      "needs_background": "light"
     },
     "output_type": "display_data"
    }
   ],
   "source": [
    "sze = 188\n",
    "plot_confusion_matrix(cm_my_model[:sze,:sze], class_names[:sze], cmap=plt.cm.PuRd)\n",
    "plt.savefig(\"../img/my_cnn_cm.png\")"
   ]
  },
  {
   "cell_type": "code",
   "execution_count": 43,
   "metadata": {},
   "outputs": [
    {
     "name": "stdout",
     "output_type": "stream",
     "text": [
      "Mewtwo for Aerodactyl 24.193548%\n",
      "Mewtwo for Cloyster 8.064516%\n",
      "Golbat for Aerodactyl 26.666667%\n",
      "Eevee for Dodrio 33.333333%\n",
      "Blastoise for Beedrill 14.285714%\n"
     ]
    }
   ],
   "source": [
    "from heapq import nlargest\n",
    "from collections import defaultdict\n",
    "\n",
    "d = defaultdict(list)\n",
    "\n",
    "for i in range(len(cm_my_model)):\n",
    "    for j in range(i):\n",
    "      d[cm_my_model[i][j]].append((i, j))\n",
    "\n",
    "for value, positions in nlargest(5, d.items(), key=lambda item: item[0]):\n",
    "    #print(value, positions)\n",
    "    target = class_names[positions[0][0]]\n",
    "    predicted = class_names[positions[0][1]]\n",
    "    perc = value/sum(cm_my_model[positions[0][0]])\n",
    "    print (target + \" for \" + predicted, f'{perc*100:1f}%')"
   ]
  },
  {
   "cell_type": "code",
   "execution_count": 37,
   "metadata": {},
   "outputs": [
    {
     "data": {
      "text/plain": [
       "'Mewtwo'"
      ]
     },
     "execution_count": 37,
     "metadata": {},
     "output_type": "execute_result"
    }
   ],
   "source": [
    "class_names[82]"
   ]
  },
  {
   "cell_type": "code",
   "execution_count": 45,
   "metadata": {},
   "outputs": [
    {
     "data": {
      "text/plain": [
       "dict_keys([0, 1, 2, 3, 4, 15, 5])"
      ]
     },
     "execution_count": 45,
     "metadata": {},
     "output_type": "execute_result"
    }
   ],
   "source": [
    "d.keys()"
   ]
  },
  {
   "cell_type": "code",
   "execution_count": 20,
   "metadata": {},
   "outputs": [
    {
     "data": {
      "text/plain": [
       "22201"
      ]
     },
     "execution_count": 20,
     "metadata": {},
     "output_type": "execute_result"
    }
   ],
   "source": [
    "149*149"
   ]
  },
  {
   "cell_type": "code",
   "execution_count": 41,
   "metadata": {},
   "outputs": [
    {
     "data": {
      "text/plain": [
       "62"
      ]
     },
     "execution_count": 41,
     "metadata": {},
     "output_type": "execute_result"
    }
   ],
   "source": [
    "sum(cm_my_model[82])"
   ]
  },
  {
   "cell_type": "code",
   "execution_count": 47,
   "metadata": {},
   "outputs": [],
   "source": [
    "perc_dict = defaultdict(float)\n",
    "for num in [1, 2, 3, 4, 15, 5]:\n",
    "    for item in d[num]:\n",
    "        target = class_names[item[0]]\n",
    "        predicted = class_names[item[1]]\n",
    "        percentage = num/sum(cm_my_model[item[0]])\n",
    "        key_string = target + \" for \" + predicted\n",
    "        perc_dict[key_string] = percentage"
   ]
  },
  {
   "cell_type": "code",
   "execution_count": null,
   "metadata": {},
   "outputs": [],
   "source": []
  },
  {
   "cell_type": "code",
   "execution_count": 60,
   "metadata": {},
   "outputs": [
    {
     "name": "stdout",
     "output_type": "stream",
     "text": [
      "Machoke for Beedrill 36.363636% of the time\n",
      "Eevee for Dodrio 33.333333% of the time\n",
      "Primeape for Mankey 33.333333% of the time\n",
      "Vaporeon for Seadra 33.333333% of the time\n",
      "Poliwrath for Poliwhirl 30.769231% of the time\n"
     ]
    }
   ],
   "source": [
    "for value, positions in nlargest(5, perc_dict.items(), key=lambda item: item[1]):\n",
    "    print(value + \" {:0f}% of the time\".format(perc_dict[value]*100))"
   ]
  },
  {
   "cell_type": "code",
   "execution_count": null,
   "metadata": {},
   "outputs": [],
   "source": []
  }
 ],
 "metadata": {
  "kernelspec": {
   "display_name": "Python 3",
   "language": "python",
   "name": "python3"
  },
  "language_info": {
   "codemirror_mode": {
    "name": "ipython",
    "version": 3
   },
   "file_extension": ".py",
   "mimetype": "text/x-python",
   "name": "python",
   "nbconvert_exporter": "python",
   "pygments_lexer": "ipython3",
   "version": "3.7.3"
  }
 },
 "nbformat": 4,
 "nbformat_minor": 2
}
