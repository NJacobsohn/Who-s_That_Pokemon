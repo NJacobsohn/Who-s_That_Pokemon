{
 "cells": [
  {
   "cell_type": "code",
   "execution_count": 2,
   "metadata": {},
   "outputs": [
    {
     "name": "stderr",
     "output_type": "stream",
     "text": [
      "Using TensorFlow backend.\n"
     ]
    }
   ],
   "source": [
    "import matplotlib.pyplot as plt\n",
    "import pandas as pd\n",
    "import numpy as np\n",
    "%matplotlib inline\n",
    "import seaborn as sns\n",
    "import pickle\n",
    "import itertools\n",
    "import matplotlib as mpl\n",
    "from keras.preprocessing.image import load_img, img_to_array\n",
    "\n",
    "\n",
    "sns.set()\n",
    "\n",
    "mpl.rcParams.update({\n",
    "    'font.size'           : 18.0,\n",
    "    'axes.titlesize'      : 'large',\n",
    "    'axes.labelsize'      : 'medium',\n",
    "    'xtick.labelsize'     : 'medium',\n",
    "    'ytick.labelsize'     : 'medium',\n",
    "    'legend.fontsize'     : 'medium',\n",
    "})"
   ]
  },
  {
   "cell_type": "code",
   "execution_count": 3,
   "metadata": {},
   "outputs": [],
   "source": [
    "with open('../models/metrics/model_2700_cm.txt', 'rb') as f:\n",
    "    cm_my_model = pickle.load(f)\n",
    "with open('../pickles/class_names.p', 'rb') as f:\n",
    "    class_names = pickle.load(f)"
   ]
  },
  {
   "cell_type": "code",
   "execution_count": 31,
   "metadata": {},
   "outputs": [],
   "source": [
    "def plot_confusion_matrix(cm, classes,\n",
    "                          title='Confusion matrix',\n",
    "                          cmap=plt.cm.jet):\n",
    "    \"\"\"\n",
    "    This function prints and plots the confusion matrix.\n",
    "    \"\"\"\n",
    "    \n",
    "    fig, ax = plt.subplots(1,1,figsize = (10,10))\n",
    "    cm = cm.astype('float') / cm.sum(axis=1)[:, np.newaxis]\n",
    "    plt.imshow(cm, interpolation='nearest', cmap=cmap)\n",
    "    print(len(classes))\n",
    "    ax.set_title(title)\n",
    "    plt.colorbar(ax=ax)\n",
    "    ax.set_ylabel('True label')\n",
    "    ax.set_xlabel('Predicted label')"
   ]
  },
  {
   "cell_type": "code",
   "execution_count": 35,
   "metadata": {},
   "outputs": [
    {
     "name": "stdout",
     "output_type": "stream",
     "text": [
      "149\n"
     ]
    },
    {
     "data": {
      "image/png": "[encoded data removed]",
      "text/plain": [
       "<Figure size 720x720 with 2 Axes>"
      ]
     },
     "metadata": {
      "needs_background": "light"
     },
     "output_type": "display_data"
    }
   ],
   "source": [
    "sze = 188\n",
    "plot_confusion_matrix(cm_my_model[:sze,:sze], class_names[:sze], cmap=plt.cm.PuRd)\n",
    "plt.tight_layout()\n",
    "plt.savefig(\"../img/my_cnn_cm.png\")"
   ]
  },
  {
   "cell_type": "code",
   "execution_count": 43,
   "metadata": {},
   "outputs": [
    {
     "name": "stdout",
     "output_type": "stream",
     "text": [
      "Mewtwo for Aerodactyl 24.193548%\n",
      "Mewtwo for Cloyster 8.064516%\n",
      "Golbat for Aerodactyl 26.666667%\n",
      "Eevee for Dodrio 33.333333%\n",
      "Blastoise for Beedrill 14.285714%\n"
     ]
    }
   ],
   "source": [
    "from heapq import nlargest\n",
    "from collections import defaultdict\n",
    "\n",
    "d = defaultdict(list)\n",
    "\n",
    "for i in range(len(cm_my_model)):\n",
    "    for j in range(i):\n",
    "      d[cm_my_model[i][j]].append((i, j))\n",
    "\n",
    "for value, positions in nlargest(5, d.items(), key=lambda item: item[0]):\n",
    "    #print(value, positions)\n",
    "    target = class_names[positions[0][0]]\n",
    "    predicted = class_names[positions[0][1]]\n",
    "    perc = value/sum(cm_my_model[positions[0][0]])\n",
    "    print (target + \" for \" + predicted, f'{perc*100:1f}%')"
   ]
  },
  {
   "cell_type": "code",
   "execution_count": 37,
   "metadata": {},
   "outputs": [
    {
     "data": {
      "text/plain": [
       "'Mewtwo'"
      ]
     },
     "execution_count": 37,
     "metadata": {},
     "output_type": "execute_result"
    }
   ],
   "source": [
    "class_names[82]"
   ]
  },
  {
   "cell_type": "code",
   "execution_count": 45,
   "metadata": {},
   "outputs": [
    {
     "data": {
      "text/plain": [
       "dict_keys([0, 1, 2, 3, 4, 15, 5])"
      ]
     },
     "execution_count": 45,
     "metadata": {},
     "output_type": "execute_result"
    }
   ],
   "source": [
    "d.keys()"
   ]
  },
  {
   "cell_type": "code",
   "execution_count": 20,
   "metadata": {},
   "outputs": [
    {
     "data": {
      "text/plain": [
       "22201"
      ]
     },
     "execution_count": 20,
     "metadata": {},
     "output_type": "execute_result"
    }
   ],
   "source": [
    "149*149"
   ]
  },
  {
   "cell_type": "code",
   "execution_count": 41,
   "metadata": {},
   "outputs": [
    {
     "data": {
      "text/plain": [
       "62"
      ]
     },
     "execution_count": 41,
     "metadata": {},
     "output_type": "execute_result"
    }
   ],
   "source": [
    "sum(cm_my_model[82])"
   ]
  },
  {
   "cell_type": "code",
   "execution_count": 47,
   "metadata": {},
   "outputs": [],
   "source": [
    "perc_dict = defaultdict(float)\n",
    "for num in [1, 2, 3, 4, 15, 5]:\n",
    "    for item in d[num]:\n",
    "        target = class_names[item[0]]\n",
    "        predicted = class_names[item[1]]\n",
    "        percentage = num/sum(cm_my_model[item[0]])\n",
    "        key_string = target + \" for \" + predicted\n",
    "        perc_dict[key_string] = percentage"
   ]
  },
  {
   "cell_type": "code",
   "execution_count": null,
   "metadata": {},
   "outputs": [],
   "source": []
  },
  {
   "cell_type": "code",
   "execution_count": 60,
   "metadata": {},
   "outputs": [
    {
     "name": "stdout",
     "output_type": "stream",
     "text": [
      "Machoke for Beedrill 36.363636% of the time\n",
      "Eevee for Dodrio 33.333333% of the time\n",
      "Primeape for Mankey 33.333333% of the time\n",
      "Vaporeon for Seadra 33.333333% of the time\n",
      "Poliwrath for Poliwhirl 30.769231% of the time\n"
     ]
    }
   ],
   "source": [
    "for value, positions in nlargest(5, perc_dict.items(), key=lambda item: item[1]):\n",
    "    print(value + \" {:0f}% of the time\".format(perc_dict[value]*100))"
   ]
  },
  {
   "cell_type": "code",
   "execution_count": 3,
   "metadata": {},
   "outputs": [],
   "source": [
    "col_names = [\"loss\", \"acc\", \"val_loss\", \"val_acc\"]\n",
    "my_cnn_history = pd.read_csv(\"../models/model_accuracy_2367_history.txt\",\n",
    "                             header=None,\n",
    "                             names=col_names)"
   ]
  },
  {
   "cell_type": "code",
   "execution_count": 4,
   "metadata": {},
   "outputs": [
    {
     "data": {
      "text/html": [
       "<div>\n",
       "<style scoped>\n",
       "    .dataframe tbody tr th:only-of-type {\n",
       "        vertical-align: middle;\n",
       "    }\n",
       "\n",
       "    .dataframe tbody tr th {\n",
       "        vertical-align: top;\n",
       "    }\n",
       "\n",
       "    .dataframe thead th {\n",
       "        text-align: right;\n",
       "    }\n",
       "</style>\n",
       "<table border=\"1\" class=\"dataframe\">\n",
       "  <thead>\n",
       "    <tr style=\"text-align: right;\">\n",
       "      <th></th>\n",
       "      <th>loss</th>\n",
       "      <th>acc</th>\n",
       "      <th>val_loss</th>\n",
       "      <th>val_acc</th>\n",
       "    </tr>\n",
       "  </thead>\n",
       "  <tbody>\n",
       "    <tr>\n",
       "      <th>0</th>\n",
       "      <td>4.642904</td>\n",
       "      <td>0.079639</td>\n",
       "      <td>4.266100</td>\n",
       "      <td>0.125610</td>\n",
       "    </tr>\n",
       "    <tr>\n",
       "      <th>1</th>\n",
       "      <td>4.060012</td>\n",
       "      <td>0.132683</td>\n",
       "      <td>3.949358</td>\n",
       "      <td>0.138415</td>\n",
       "    </tr>\n",
       "    <tr>\n",
       "      <th>2</th>\n",
       "      <td>3.741482</td>\n",
       "      <td>0.165632</td>\n",
       "      <td>3.847429</td>\n",
       "      <td>0.164634</td>\n",
       "    </tr>\n",
       "    <tr>\n",
       "      <th>3</th>\n",
       "      <td>3.521585</td>\n",
       "      <td>0.196809</td>\n",
       "      <td>3.657512</td>\n",
       "      <td>0.188415</td>\n",
       "    </tr>\n",
       "    <tr>\n",
       "      <th>4</th>\n",
       "      <td>3.387521</td>\n",
       "      <td>0.221040</td>\n",
       "      <td>3.593713</td>\n",
       "      <td>0.200000</td>\n",
       "    </tr>\n",
       "    <tr>\n",
       "      <th>5</th>\n",
       "      <td>3.325508</td>\n",
       "      <td>0.229905</td>\n",
       "      <td>3.656838</td>\n",
       "      <td>0.195732</td>\n",
       "    </tr>\n",
       "    <tr>\n",
       "      <th>6</th>\n",
       "      <td>3.233458</td>\n",
       "      <td>0.244976</td>\n",
       "      <td>3.616092</td>\n",
       "      <td>0.229878</td>\n",
       "    </tr>\n",
       "    <tr>\n",
       "      <th>7</th>\n",
       "      <td>3.148864</td>\n",
       "      <td>0.254580</td>\n",
       "      <td>3.509113</td>\n",
       "      <td>0.244512</td>\n",
       "    </tr>\n",
       "    <tr>\n",
       "      <th>8</th>\n",
       "      <td>3.069985</td>\n",
       "      <td>0.275118</td>\n",
       "      <td>3.554467</td>\n",
       "      <td>0.223171</td>\n",
       "    </tr>\n",
       "    <tr>\n",
       "      <th>9</th>\n",
       "      <td>2.969873</td>\n",
       "      <td>0.292553</td>\n",
       "      <td>3.592299</td>\n",
       "      <td>0.240854</td>\n",
       "    </tr>\n",
       "  </tbody>\n",
       "</table>\n",
       "</div>"
      ],
      "text/plain": [
       "       loss       acc  val_loss   val_acc\n",
       "0  4.642904  0.079639  4.266100  0.125610\n",
       "1  4.060012  0.132683  3.949358  0.138415\n",
       "2  3.741482  0.165632  3.847429  0.164634\n",
       "3  3.521585  0.196809  3.657512  0.188415\n",
       "4  3.387521  0.221040  3.593713  0.200000\n",
       "5  3.325508  0.229905  3.656838  0.195732\n",
       "6  3.233458  0.244976  3.616092  0.229878\n",
       "7  3.148864  0.254580  3.509113  0.244512\n",
       "8  3.069985  0.275118  3.554467  0.223171\n",
       "9  2.969873  0.292553  3.592299  0.240854"
      ]
     },
     "execution_count": 4,
     "metadata": {},
     "output_type": "execute_result"
    }
   ],
   "source": [
    "my_cnn_history"
   ]
  },
  {
   "cell_type": "code",
   "execution_count": 14,
   "metadata": {},
   "outputs": [],
   "source": [
    "def make_acc_epoch_plot(df, epochs, title=\"Accuracy per Epoch\"):\n",
    "    x_vals = np.arange(0, epochs)\n",
    "    fig, ax = plt.subplots(figsize=(12, 6))\n",
    "    ax.plot(x_vals, df.iloc[:epochs, 1], \"ob-\", label=\"Training Accuracy\")\n",
    "    ax.plot(x_vals, df.iloc[:epochs, -1], \"og-\", label=\"Testing Accuracy\")\n",
    "    ax.set_xticks(x_vals)\n",
    "    ax.set_xticklabels(x_vals+1)\n",
    "    ax.set_title(title)\n",
    "    ax.set_ylabel('Accuracy')\n",
    "    ax.set_xlabel('Epoch')\n",
    "    ax.legend()"
   ]
  },
  {
   "cell_type": "code",
   "execution_count": null,
   "metadata": {},
   "outputs": [],
   "source": [
    "def make_loss_epoch_plot(df, epochs, title=\"Accuracy per Epoch\"):\n",
    "    x_vals = np.arange(0, epochs)\n",
    "    fig, ax = plt.subplots(figsize=(12, 6))\n",
    "    ax.plot(x_vals, df.iloc[:epochs, 0], \"ob-\", label=\"Training Accuracy\")\n",
    "    ax.plot(x_vals, df.iloc[:epochs, 2], \"og-\", label=\"Testing Accuracy\")\n",
    "    ax.set_xticks(x_vals)\n",
    "    ax.set_xticklabels(x_vals+1)\n",
    "    ax.set_title(title)\n",
    "    ax.set_ylabel('Accuracy')\n",
    "    ax.set_xlabel('Epoch')\n",
    "    ax.legend()"
   ]
  },
  {
   "cell_type": "code",
   "execution_count": 15,
   "metadata": {},
   "outputs": [
    {
     "data": {
      "image/png": "[encoded data removed]",
      "text/plain": [
       "<Figure size 864x432 with 1 Axes>"
      ]
     },
     "metadata": {
      "needs_background": "light"
     },
     "output_type": "display_data"
    }
   ],
   "source": [
    "make_acc_epoch_plot(my_cnn_history, 10, \"Accuracy per Epoch (My CNN)\")\n",
    "plt.tight_layout()\n",
    "plt.savefig(\"../img/accuracy_per_epoch_my_cnn.png\")"
   ]
  },
  {
   "cell_type": "code",
   "execution_count": null,
   "metadata": {},
   "outputs": [],
   "source": []
  }
 ],
 "metadata": {
  "kernelspec": {
   "display_name": "Python 3",
   "language": "python",
   "name": "python3"
  },
  "language_info": {
   "codemirror_mode": {
    "name": "ipython",
    "version": 3
   },
   "file_extension": ".py",
   "mimetype": "text/x-python",
   "name": "python",
   "nbconvert_exporter": "python",
   "pygments_lexer": "ipython3",
   "version": "3.7.3"
  }
 },
 "nbformat": 4,
 "nbformat_minor": 2
}
